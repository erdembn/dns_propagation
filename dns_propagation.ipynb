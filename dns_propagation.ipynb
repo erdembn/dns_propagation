{
 "cells": [
  {
   "cell_type": "code",
   "execution_count": null,
   "metadata": {},
   "outputs": [],
   "source": [
    "#Install dnsutils for nslookup\n",
    "!apt-get -q -y install dnsutils "
   ]
  },
  {
   "cell_type": "code",
   "execution_count": null,
   "metadata": {},
   "outputs": [],
   "source": [
    "ip_addresses = [\"1.1.1.1\",\"8.8.8.8\"]"
   ]
  },
  {
   "cell_type": "code",
   "execution_count": null,
   "metadata": {},
   "outputs": [],
   "source": [
    "try:\n",
    "  for i in ip_addresses:\n",
    "    print(f\"Checking this server :{i}\")\n",
    "    !nslookup google.com $i\n",
    "except:\n",
    "  print(f\"Couldn't checked this server: {i}\")\n"
   ]
  },
  {
   "cell_type": "code",
   "execution_count": null,
   "metadata": {},
   "outputs": [],
   "source": [
    "#If you download a txt file that contains ip addresses, you can use this script\n",
    "with open(\"ip_addresses.txt\") as file:\n",
    "  lines = [line.rstrip() for line in file]\n",
    "\n",
    "try:\n",
    "  for i in ip_addresses:\n",
    "    print(f\"Checking this server :{i}\")\n",
    "    !nslookup google.com $i\n",
    "except:\n",
    "  print(f\"Couldn't checked this server: {i}\")"
   ]
  }
 ],
 "metadata": {
  "kernelspec": {
   "display_name": "Python 3",
   "language": "python",
   "name": "python3"
  },
  "language_info": {
   "name": "python",
   "version": "3.10.4"
  },
  "orig_nbformat": 4
 },
 "nbformat": 4,
 "nbformat_minor": 2
}
